{
    "nbformat_minor": 1, 
    "cells": [
        {
            "source": "import requests as rq", 
            "cell_type": "code", 
            "metadata": {}, 
            "outputs": [], 
            "execution_count": 1
        }, 
        {
            "source": "url=input(\"Enter URL to be scrapped:\")\nraw_content = rq.get(url)\ncontent = raw_content.text", 
            "cell_type": "code", 
            "metadata": {}, 
            "outputs": [
                {
                    "output_type": "stream", 
                    "name": "stdout", 
                    "text": "Enter URL to be scrapped:https://www.amazon.in/Pampers-Large-Diapers-Pants-Count/dp/B07CXFJT8Q/ref=sr_1_1?hsa_cr_id=6850697350902&lp_asins=B07DP24NSR%2CB07CXFJT8Q%2CB07CXGS2VZ&lp_mat_key=mamy+poko+pants&lp_query=mamy+poko+pant+xl+size&lp_slot=auto-sparkle-hsa-tetris&m=AT95IG9ONZD7S&pf_rd_p=14a7d39d-3545-4d03-80d7-03383629e911&qid=1555155806&refinements=p_6%3AAT95IG9ONZD7S%2Cssx%3Arelevance&s=baby&sb-ci-n=brandLogo&sb-ci-v=images%2FS%2Fgladiator-image-upload-prod%2Fe%2FA21TJRUUN4KGV%2F6680a39d28c52c45124aa7f49022c364._SR218%2C200_.jpg&sr=1-1&store_ref=SB_A0827569F1VN8Z100TOF\n"
                }
            ], 
            "execution_count": 52
        }, 
        {
            "source": "title_index = content.find('id=\"productTitle\"')\nraw1=content[title_index+len('id=\"productTitle class=\"a-size-large\">\"'):]", 
            "cell_type": "code", 
            "metadata": {}, 
            "outputs": [], 
            "execution_count": 53
        }, 
        {
            "source": "end = raw1.find(\"</span\")", 
            "cell_type": "code", 
            "metadata": {}, 
            "outputs": [], 
            "execution_count": 54
        }, 
        {
            "source": "print(raw1[:end].strip())", 
            "cell_type": "code", 
            "metadata": {}, 
            "outputs": [
                {
                    "output_type": "stream", 
                    "name": "stdout", 
                    "text": "Pampers New Diapers Pants, Large (64 Count)\n"
                }
            ], 
            "execution_count": 55
        }, 
        {
            "source": "price_raw_index=content.find('id=\"priceblock_ourprice\"')\nraw2=content[price_raw_index+len('id=\"priceblock_ourprice\" class=\"a-size-medium a-color-price priceBlockBuyingPriceString><span class=\"currencyINR\">&nbsp;&nbsp;</span>\"')+1:]\n#print(raw2)\nend_price_index=raw2.find(\"</span>\")\nprint(raw2[:end_price_index].strip())", 
            "cell_type": "code", 
            "metadata": {
                "scrolled": true
            }, 
            "outputs": [
                {
                    "output_type": "stream", 
                    "name": "stdout", 
                    "text": "727.00\n"
                }
            ], 
            "execution_count": 56
        }, 
        {
            "source": "rating_raw_index=content.find('id=\"acrCustomerReviewText\"')\nraw3=content[rating_raw_index+len('id=\"acrCustomerReviewText\" class=\"a-size-base\">'):]\n#print(raw3)\nend_rating_index=raw3.find(\"</span>\")\nprint(raw3[:end_rating_index].strip())", 
            "cell_type": "code", 
            "metadata": {}, 
            "outputs": [
                {
                    "output_type": "stream", 
                    "name": "stdout", 
                    "text": "11,103 customer reviews\n"
                }
            ], 
            "execution_count": 57
        }, 
        {
            "source": "", 
            "cell_type": "code", 
            "metadata": {}, 
            "outputs": [], 
            "execution_count": null
        }
    ], 
    "metadata": {
        "kernelspec": {
            "display_name": "Python 3.5", 
            "name": "python3", 
            "language": "python"
        }, 
        "language_info": {
            "mimetype": "text/x-python", 
            "nbconvert_exporter": "python", 
            "version": "3.5.5", 
            "name": "python", 
            "pygments_lexer": "ipython3", 
            "file_extension": ".py", 
            "codemirror_mode": {
                "version": 3, 
                "name": "ipython"
            }
        }
    }, 
    "nbformat": 4
}