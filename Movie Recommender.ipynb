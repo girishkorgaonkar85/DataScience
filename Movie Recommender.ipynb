{
    "nbformat_minor": 1, 
    "cells": [
        {
            "source": "import requests as req\nimport json\ntastedive_api_key = \"340323-Learning-5115U13E\"\nomdb_api_key = \"64a96d91\"", 
            "cell_type": "code", 
            "metadata": {}, 
            "outputs": [], 
            "execution_count": 183
        }, 
        {
            "source": "def checkKey(dict, key):\n    if key in dict.keys(): \n        return 1\n    else: \n        return 0", 
            "cell_type": "code", 
            "metadata": {}, 
            "outputs": [], 
            "execution_count": 208
        }, 
        {
            "source": "movie=input(\"Enter desired movie name : \")", 
            "cell_type": "code", 
            "metadata": {}, 
            "outputs": [
                {
                    "output_type": "stream", 
                    "name": "stdout", 
                    "text": "Enter desired movie name : Avengers\n"
                }
            ], 
            "execution_count": 209
        }, 
        {
            "source": "url = \"https://tastedive.com/api/similar?q=movie:\"+movie+\"&k=\"+tastedive_api_key\nresponse = req.get(url)\nresult = response.json()", 
            "cell_type": "code", 
            "metadata": {}, 
            "outputs": [], 
            "execution_count": 210
        }, 
        {
            "source": "similar_movies = []\nfor i in range(20):\n    try:\n        if (checkKey(result,'Similar') == 1):\n            results_list_len = len(result['Similar']['Results']) #if length 0 means results list was empty\n            if (results_list_len != 0):\n                name_dict = result['Similar']['Results'][i] \n                if (checkKey(name_dict,'Name') == 1): #if name key found at ith position in name_dict\n                    similar_movies.append(result['Similar']['Results'][i]['Name'])\n    except KeyError:\n        pass\nsimilar_movies", 
            "cell_type": "code", 
            "metadata": {}, 
            "outputs": [
                {
                    "output_type": "execute_result", 
                    "data": {
                        "text/plain": "['Captain America: The First Avenger',\n 'Iron Man 3',\n 'Iron Man 2',\n 'Thor: The Dark World',\n 'The Amazing Spider-Man',\n 'Thor',\n 'Hulk',\n 'Captain America',\n 'X-Men: First Class',\n 'Green Lantern',\n 'Captain America: The Winter Soldier',\n 'The Amazing Spider-Man 2',\n 'Transformers: Dark Of The Moon',\n 'The Wolverine',\n 'Sherlock Holmes: A Game Of Shadows',\n 'Captain America: Civil War',\n 'Man Of Steel',\n 'The Incredible Hulk',\n 'Real Steel',\n 'Men In Black 3']"
                    }, 
                    "execution_count": 211, 
                    "metadata": {}
                }
            ], 
            "execution_count": 211
        }, 
        {
            "source": "ratings = {}\ni=0\nif (similar_movies == []):\n    print(\"NO related movies were found, won't fetch ratings\")\nelse:\n    for val in similar_movies:\n        ratings_url = \"http://www.omdbapi.com/?t=\"+val+\"&apikey=\"+omdb_api_key\n        response = req.get(ratings_url)\n        result1 = response.json()\n        try:\n            if (checkKey(result1,'Response') == 1): #if Response key not found at result1 dict\n                if (checkKey(result1,'Rated') == 1 and result1['Rated'] != 'N/A'): #if Rated key found at result1 dict & is movie has valid rating\n                    if (checkKey(result1,'Ratings') == 1):\n                        ratings_list_len = len(result1['Ratings']) #if length 1 means result1 list doesnt have rotten tomatoes rating\n                        if (ratings_list_len > 1 and result1['Ratings'][1]['Source'].upper().find(\"ROTTEN\") != -1):\n                            ratings.update({val:result1['Ratings'][1]['Value']}) #adding rotten tomatoes rating\n                            i=i+1\n        except KeyError:\n            pass   \n    if (ratings == {}):\n        print(\"No ratings found for any movie\")\n    else:\n        ratings = sorted(ratings.items(), key=lambda x: float(x[1].strip(\"%\")), reverse=True)\nratings", 
            "cell_type": "code", 
            "metadata": {}, 
            "outputs": [
                {
                    "output_type": "execute_result", 
                    "data": {
                        "text/plain": "[('Captain America: Civil War', '91%'),\n ('Captain America: The Winter Soldier', '90%'),\n ('X-Men: First Class', '86%'),\n ('Captain America: The First Avenger', '80%'),\n ('Iron Man 3', '79%'),\n ('Thor', '77%'),\n ('Iron Man 2', '74%'),\n ('The Amazing Spider-Man', '72%'),\n ('The Wolverine', '71%'),\n ('Men In Black 3', '68%'),\n ('The Incredible Hulk', '67%'),\n ('Thor: The Dark World', '66%'),\n ('Hulk', '62%'),\n ('Sherlock Holmes: A Game Of Shadows', '60%'),\n ('Real Steel', '60%'),\n ('Man Of Steel', '56%'),\n ('The Amazing Spider-Man 2', '52%'),\n ('Transformers: Dark Of The Moon', '35%'),\n ('Green Lantern', '26%'),\n ('Captain America', '7%')]"
                    }, 
                    "execution_count": 212, 
                    "metadata": {}
                }
            ], 
            "execution_count": 212
        }, 
        {
            "source": "", 
            "cell_type": "code", 
            "metadata": {}, 
            "outputs": [], 
            "execution_count": null
        }, 
        {
            "source": "", 
            "cell_type": "code", 
            "metadata": {}, 
            "outputs": [], 
            "execution_count": null
        }, 
        {
            "source": "", 
            "cell_type": "code", 
            "metadata": {}, 
            "outputs": [], 
            "execution_count": null
        }
    ], 
    "metadata": {
        "kernelspec": {
            "display_name": "Python 3.5", 
            "name": "python3", 
            "language": "python"
        }, 
        "language_info": {
            "mimetype": "text/x-python", 
            "nbconvert_exporter": "python", 
            "version": "3.5.5", 
            "name": "python", 
            "pygments_lexer": "ipython3", 
            "file_extension": ".py", 
            "codemirror_mode": {
                "version": 3, 
                "name": "ipython"
            }
        }
    }, 
    "nbformat": 4
}