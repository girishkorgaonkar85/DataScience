{
    "nbformat_minor": 1, 
    "cells": [
        {
            "source": "#### Q1 & Q8. convert Celsius to Fahrenheit temperature:", 
            "cell_type": "markdown", 
            "metadata": {}
        }, 
        {
            "source": "temps = [(\"Mumbai\",27),(\"Delhi\",26),(\"Bengluru\",25),(\"Chennai\",24)]", 
            "cell_type": "code", 
            "execution_count": 5, 
            "outputs": [], 
            "metadata": {}
        }, 
        {
            "source": "print(list(zip([tup[0] for tup in temps], map(lambda x: (9/5)*x + 32, [tup[1] for tup in temps]))))", 
            "cell_type": "code", 
            "execution_count": 6, 
            "outputs": [
                {
                    "output_type": "stream", 
                    "name": "stdout", 
                    "text": "[('Mumbai', 80.6), ('Delhi', 78.80000000000001), ('Bengluru', 77.0), ('Chennai', 75.2)]\n"
                }
            ], 
            "metadata": {}
        }, 
        {
            "source": "#### Q2. MULTIPLY ALL NUMBERS IN A LIST using lambda function", 
            "cell_type": "markdown", 
            "metadata": {}
        }, 
        {
            "source": "prime = [2,3,5,7,11,13,17,19]", 
            "cell_type": "code", 
            "execution_count": 7, 
            "outputs": [], 
            "metadata": {}
        }, 
        {
            "source": "from functools import reduce\nprint(reduce((lambda x, y: x * y), prime))", 
            "cell_type": "code", 
            "execution_count": 10, 
            "outputs": [
                {
                    "output_type": "stream", 
                    "name": "stdout", 
                    "text": "9699690\n"
                }
            ], 
            "metadata": {}
        }, 
        {
            "source": "#### Q3. Write a function for following output:\n\n* Enter a number:5 \n* Enter a number:4\n* Enter the function you  want:MUL\n* output = 20\n* Such function does not exit", 
            "cell_type": "markdown", 
            "metadata": {}
        }, 
        {
            "source": "def prepare_expression(num1,num2,operand):\n    expression=\"\"\n    if operand.lower() == \"mul\":\n        expression = str(num1)+\"*\"+str(num2)\n    elif operand.lower() == \"div\":   \n        expression = str(num1)+\"/\"+str(num2)\n    elif operand.lower() == \"add\":   \n        expression = str(num1)+\"+\"+str(num2)\n    elif operand.lower() == \"sub\":   \n        expression = str(num1)+\"-\"+str(num2)\n    return (expression)", 
            "cell_type": "code", 
            "execution_count": 11, 
            "outputs": [], 
            "metadata": {}
        }, 
        {
            "source": "def validate_operand(oper):\n    valid_operators=[\"add\",\"sub\",\"mul\",\"div\",\"end\"]\n    return([ele for ele in valid_operators if(ele in oper)])", 
            "cell_type": "code", 
            "execution_count": 12, 
            "outputs": [], 
            "metadata": {}
        }, 
        {
            "source": "def validate_num_input(num):\n     if num == \"\" or not(num.isdigit()):\n        return False\n     else:\n        return True", 
            "cell_type": "code", 
            "execution_count": 13, 
            "outputs": [], 
            "metadata": {}
        }, 
        {
            "source": "expression=\"\"\nwhile expression != 'end':\n    operand=input(\"Enter operand (add or div or mul or sub or end) = \")\n    if(validate_operand(operand) == []):\n        print(\"User entered invalid operand(valid operators are add/sub/div/mul/end\")\n    elif validate_operand(operand) ==[\"end\"]:\n        print(\"User entered end program exiting now!!\")\n        expression = \"end\"\n    else:\n        num1=input(\"Enter number 1 = \")\n        num2=input(\"Enter number 2 = \")\n        if validate_num_input(num1) and validate_num_input(num2):\n            expression = prepare_expression(num1,num2,operand)\n            try:\n                print(\"output = \",eval(expression))\n            except ZeroDivisionError:\n                print(\"Divide by zero occured!!Enter correct value for num2\")\n        else:\n            print(\"Enter correct digits only for num1 and num2\")        ", 
            "cell_type": "code", 
            "execution_count": 14, 
            "outputs": [
                {
                    "output_type": "stream", 
                    "name": "stdout", 
                    "text": "Enter operand (add or div or mul or sub or end) = add\nEnter number 1 = 4\nEnter number 2 = \nEnter correct digits only for num1 and num2\nEnter operand (add or div or mul or sub or end) = add\nEnter number 1 = 4\nEnter number 2 = 5\noutput =  9\nEnter operand (add or div or mul or sub or end) = end\nUser entered end program exiting now!!\n"
                }
            ], 
            "metadata": {}
        }, 
        {
            "source": "##### Q4. Define a function to recognize the number is present in the list at the start or end then print True else print False", 
            "cell_type": "markdown", 
            "metadata": {}
        }, 
        {
            "source": "sample_list = [[1,2,3,4],[4,3,2,1],[5,6,7,6],[1,2,4,5],[4,5,6,7,4],[4,4,4]]", 
            "cell_type": "code", 
            "execution_count": 15, 
            "outputs": [], 
            "metadata": {}
        }, 
        {
            "source": "num_to_search=4", 
            "cell_type": "code", 
            "execution_count": 16, 
            "outputs": [], 
            "metadata": {}
        }, 
        {
            "source": "[True if num_to_search == x[0] or num_to_search == x[-1]  else False for x in sample_list]", 
            "cell_type": "code", 
            "execution_count": 17, 
            "outputs": [
                {
                    "output_type": "execute_result", 
                    "metadata": {}, 
                    "data": {
                        "text/plain": "[True, True, False, False, True, True]"
                    }, 
                    "execution_count": 17
                }
            ], 
            "metadata": {}
        }, 
        {
            "source": "### Q5. Write a function for fibionacci sequence", 
            "cell_type": "markdown", 
            "metadata": {}
        }, 
        {
            "source": "def recursive_fibonacci(n):\n   \"Recursive function to print Fibonacci sequence\"\n   if n <= 1:\n       return n\n   else:\n       return(recursive_fibonacci(n-1) + recursive_fibonacci(n-2))", 
            "cell_type": "code", 
            "execution_count": 18, 
            "outputs": [], 
            "metadata": {}
        }, 
        {
            "source": "no_of_values=10\nfibonacci_list = []\nif no_of_values <= 0:\n    print(\"Plese enter a positive integer\")\nelse:\n    print(\"Fibonacci sequence:\")\n    for i in range(no_of_values):\n        fibonacci_list.append(recursive_fibonacci(i))\n    print(fibonacci_list)", 
            "cell_type": "code", 
            "execution_count": 19, 
            "outputs": [
                {
                    "output_type": "stream", 
                    "name": "stdout", 
                    "text": "Fibonacci sequence:\n[0, 1, 1, 2, 3, 5, 8, 13, 21, 34]\n"
                }
            ], 
            "metadata": {}
        }, 
        {
            "source": "### Q6. Write a code for error handling for validation of mobile no.. Usre should enter 10 digut mobile no. If enters garbage value errors must prompt", 
            "cell_type": "markdown", 
            "metadata": {}
        }, 
        {
            "source": "import re\ndef ValiateMobileNo(s): \n    # 1) is 10 digits\n    # 2) First digit contains 7 or 8 or 9. \n    # 3) Then contains 9 digits \n    if len(s) == 10:\n        Pattern = re.compile(\"[7-9][0-9]{9}\") \n        return Pattern.match(s)\n    else:\n        print(\"Enter 10 digit mobile number only\")", 
            "cell_type": "code", 
            "execution_count": 20, 
            "outputs": [], 
            "metadata": {}
        }, 
        {
            "source": "mobile_no=input(\"Enter mobile number = \")\nif (ValiateMobileNo(mobile_no)):  \n    print (\"Valid Mobile Number\")      \nelse : \n    print (\"Invalid Mobile Number\")", 
            "cell_type": "code", 
            "execution_count": 21, 
            "outputs": [
                {
                    "output_type": "stream", 
                    "name": "stdout", 
                    "text": "Enter mobile number = \nEnter 10 digit mobile number only\nInvalid Mobile Number\n"
                }
            ], 
            "metadata": {}
        }, 
        {
            "source": "### Q7. Remove Missing Data from list", 
            "cell_type": "markdown", 
            "metadata": {}
        }, 
        {
            "source": "countries = [\"INDIA\",\"\",\"AUSTRALIA\",\"\",\"SRILANKA\",\"\",\"WI\"]\nprint([x for x in countries if x is not \"\"])", 
            "cell_type": "code", 
            "execution_count": 22, 
            "outputs": [
                {
                    "output_type": "stream", 
                    "name": "stdout", 
                    "text": "['INDIA', 'AUSTRALIA', 'SRILANKA', 'WI']\n"
                }
            ], 
            "metadata": {}
        }, 
        {
            "source": "", 
            "cell_type": "code", 
            "execution_count": null, 
            "outputs": [], 
            "metadata": {}
        }
    ], 
    "nbformat": 4, 
    "metadata": {
        "kernelspec": {
            "display_name": "Python 3.6", 
            "name": "python3", 
            "language": "python"
        }, 
        "language_info": {
            "mimetype": "text/x-python", 
            "nbconvert_exporter": "python", 
            "version": "3.6.8", 
            "name": "python", 
            "pygments_lexer": "ipython3", 
            "file_extension": ".py", 
            "codemirror_mode": {
                "version": 3, 
                "name": "ipython"
            }
        }
    }
}