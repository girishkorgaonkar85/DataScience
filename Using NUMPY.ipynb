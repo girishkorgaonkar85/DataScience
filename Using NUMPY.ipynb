{
    "nbformat_minor": 1, 
    "cells": [
        {
            "source": "import numpy as np", 
            "cell_type": "code", 
            "metadata": {}, 
            "outputs": [], 
            "execution_count": 1
        }, 
        {
            "source": "a = np.array([0,1,2,3,4,5])", 
            "cell_type": "code", 
            "metadata": {}, 
            "outputs": [], 
            "execution_count": 2
        }, 
        {
            "source": "a", 
            "cell_type": "code", 
            "metadata": {}, 
            "outputs": [
                {
                    "output_type": "execute_result", 
                    "data": {
                        "text/plain": "array([0, 1, 2, 3, 4, 5])"
                    }, 
                    "execution_count": 3, 
                    "metadata": {}
                }
            ], 
            "execution_count": 3
        }, 
        {
            "source": "a[0]\na[1]\na[2]", 
            "cell_type": "code", 
            "metadata": {}, 
            "outputs": [
                {
                    "output_type": "execute_result", 
                    "data": {
                        "text/plain": "2"
                    }, 
                    "execution_count": 4, 
                    "metadata": {}
                }
            ], 
            "execution_count": 4
        }, 
        {
            "source": "print(a[0])\nprint(a[1])\nprint(a[2])\nprint(a[3])\nprint(a[4])", 
            "cell_type": "code", 
            "metadata": {}, 
            "outputs": [
                {
                    "output_type": "stream", 
                    "name": "stdout", 
                    "text": "0\n1\n2\n3\n4\n"
                }
            ], 
            "execution_count": 5
        }, 
        {
            "source": "a[5]=10", 
            "cell_type": "code", 
            "metadata": {}, 
            "outputs": [], 
            "execution_count": 6
        }, 
        {
            "source": "a", 
            "cell_type": "code", 
            "metadata": {}, 
            "outputs": [
                {
                    "output_type": "execute_result", 
                    "data": {
                        "text/plain": "array([ 0,  1,  2,  3,  4, 10])"
                    }, 
                    "execution_count": 7, 
                    "metadata": {}
                }
            ], 
            "execution_count": 7
        }, 
        {
            "source": "b=a[0:2]", 
            "cell_type": "code", 
            "metadata": {}, 
            "outputs": [], 
            "execution_count": 8
        }, 
        {
            "source": "b", 
            "cell_type": "code", 
            "metadata": {}, 
            "outputs": [
                {
                    "output_type": "execute_result", 
                    "data": {
                        "text/plain": "array([0, 1])"
                    }, 
                    "execution_count": 9, 
                    "metadata": {}
                }
            ], 
            "execution_count": 9
        }, 
        {
            "source": "a.size", 
            "cell_type": "code", 
            "metadata": {}, 
            "outputs": [
                {
                    "output_type": "execute_result", 
                    "data": {
                        "text/plain": "6"
                    }, 
                    "execution_count": 10, 
                    "metadata": {}
                }
            ], 
            "execution_count": 10
        }, 
        {
            "source": "a.shape", 
            "cell_type": "code", 
            "metadata": {}, 
            "outputs": [
                {
                    "output_type": "execute_result", 
                    "data": {
                        "text/plain": "(6,)"
                    }, 
                    "execution_count": 11, 
                    "metadata": {}
                }
            ], 
            "execution_count": 11
        }, 
        {
            "source": "mean=a.mean()\nprint(mean)", 
            "cell_type": "code", 
            "metadata": {}, 
            "outputs": [
                {
                    "output_type": "stream", 
                    "name": "stdout", 
                    "text": "3.33333333333\n"
                }
            ], 
            "execution_count": 12
        }, 
        {
            "source": "std_dev=a.std()\nprint(std_dev)", 
            "cell_type": "code", 
            "metadata": {}, 
            "outputs": [
                {
                    "output_type": "stream", 
                    "name": "stdout", 
                    "text": "3.24893144827\n"
                }
            ], 
            "execution_count": 13
        }, 
        {
            "source": "max_num=a.max()\nmin_num=a.min()\nprint(max_num)\nprint(min_num)", 
            "cell_type": "code", 
            "metadata": {}, 
            "outputs": [
                {
                    "output_type": "stream", 
                    "name": "stdout", 
                    "text": "10\n0\n"
                }
            ], 
            "execution_count": 15
        }, 
        {
            "source": " ## ADDITION of ARRAYS ##", 
            "cell_type": "markdown", 
            "metadata": {}
        }, 
        {
            "source": "x=np.array([1,0])\ny=np.array([0,1])\nz=x+y\nprint(z)", 
            "cell_type": "code", 
            "metadata": {}, 
            "outputs": [
                {
                    "output_type": "stream", 
                    "name": "stdout", 
                    "text": "[1 1]\n"
                }
            ], 
            "execution_count": 16
        }, 
        {
            "source": "## MULTIPLICATION of ARRAYs ##", 
            "cell_type": "markdown", 
            "metadata": {}
        }, 
        {
            "source": "x=np.array([1,2])\ny=2\nz=x*y\nprint(z)", 
            "cell_type": "code", 
            "metadata": {}, 
            "outputs": [
                {
                    "output_type": "stream", 
                    "name": "stdout", 
                    "text": "[2 4]\n"
                }
            ], 
            "execution_count": 17
        }, 
        {
            "source": "x=np.array([1,2])\ny=np.array([3,2])\nz=x*y\nprint(z)", 
            "cell_type": "code", 
            "metadata": {}, 
            "outputs": [
                {
                    "output_type": "stream", 
                    "name": "stdout", 
                    "text": "[3 4]\n"
                }
            ], 
            "execution_count": 20
        }, 
        {
            "source": "x=np.array([1,2])\ny=np.array([3,2])\nz=np.dot(x,y)\nprint(z)", 
            "cell_type": "code", 
            "metadata": {}, 
            "outputs": [
                {
                    "output_type": "stream", 
                    "name": "stdout", 
                    "text": "7\n"
                }
            ], 
            "execution_count": 23
        }, 
        {
            "source": "x=np.array([1,2])\ny=1\nz=x+1\nprint(z)", 
            "cell_type": "code", 
            "metadata": {}, 
            "outputs": [
                {
                    "output_type": "stream", 
                    "name": "stdout", 
                    "text": "[2 3]\n"
                }
            ], 
            "execution_count": 24
        }, 
        {
            "source": "np.pi", 
            "cell_type": "code", 
            "metadata": {}, 
            "outputs": [
                {
                    "output_type": "execute_result", 
                    "data": {
                        "text/plain": "3.141592653589793"
                    }, 
                    "execution_count": 25, 
                    "metadata": {}
                }
            ], 
            "execution_count": 25
        }, 
        {
            "source": "np.e", 
            "cell_type": "code", 
            "metadata": {}, 
            "outputs": [
                {
                    "output_type": "execute_result", 
                    "data": {
                        "text/plain": "2.718281828459045"
                    }, 
                    "execution_count": 26, 
                    "metadata": {}
                }
            ], 
            "execution_count": 26
        }, 
        {
            "source": "np.linspace(-2,2,num=5)", 
            "cell_type": "code", 
            "metadata": {}, 
            "outputs": [
                {
                    "output_type": "execute_result", 
                    "data": {
                        "text/plain": "array([-2., -1.,  0.,  1.,  2.])"
                    }, 
                    "execution_count": 27, 
                    "metadata": {}
                }
            ], 
            "execution_count": 27
        }, 
        {
            "source": "np.linspace(-2,2,num=9)", 
            "cell_type": "code", 
            "metadata": {}, 
            "outputs": [
                {
                    "output_type": "execute_result", 
                    "data": {
                        "text/plain": "array([-2. , -1.5, -1. , -0.5,  0. ,  0.5,  1. ,  1.5,  2. ])"
                    }, 
                    "execution_count": 29, 
                    "metadata": {}
                }
            ], 
            "execution_count": 29
        }, 
        {
            "source": "x=np.linspace(0,2*np.pi,num=100)", 
            "cell_type": "code", 
            "metadata": {}, 
            "outputs": [], 
            "execution_count": 30
        }, 
        {
            "source": "x", 
            "cell_type": "code", 
            "metadata": {}, 
            "outputs": [
                {
                    "output_type": "execute_result", 
                    "data": {
                        "text/plain": "array([ 0.        ,  0.06346652,  0.12693304,  0.19039955,  0.25386607,\n        0.31733259,  0.38079911,  0.44426563,  0.50773215,  0.57119866,\n        0.63466518,  0.6981317 ,  0.76159822,  0.82506474,  0.88853126,\n        0.95199777,  1.01546429,  1.07893081,  1.14239733,  1.20586385,\n        1.26933037,  1.33279688,  1.3962634 ,  1.45972992,  1.52319644,\n        1.58666296,  1.65012947,  1.71359599,  1.77706251,  1.84052903,\n        1.90399555,  1.96746207,  2.03092858,  2.0943951 ,  2.15786162,\n        2.22132814,  2.28479466,  2.34826118,  2.41172769,  2.47519421,\n        2.53866073,  2.60212725,  2.66559377,  2.72906028,  2.7925268 ,\n        2.85599332,  2.91945984,  2.98292636,  3.04639288,  3.10985939,\n        3.17332591,  3.23679243,  3.30025895,  3.36372547,  3.42719199,\n        3.4906585 ,  3.55412502,  3.61759154,  3.68105806,  3.74452458,\n        3.8079911 ,  3.87145761,  3.93492413,  3.99839065,  4.06185717,\n        4.12532369,  4.1887902 ,  4.25225672,  4.31572324,  4.37918976,\n        4.44265628,  4.5061228 ,  4.56958931,  4.63305583,  4.69652235,\n        4.75998887,  4.82345539,  4.88692191,  4.95038842,  5.01385494,\n        5.07732146,  5.14078798,  5.2042545 ,  5.26772102,  5.33118753,\n        5.39465405,  5.45812057,  5.52158709,  5.58505361,  5.64852012,\n        5.71198664,  5.77545316,  5.83891968,  5.9023862 ,  5.96585272,\n        6.02931923,  6.09278575,  6.15625227,  6.21971879,  6.28318531])"
                    }, 
                    "execution_count": 31, 
                    "metadata": {}
                }
            ], 
            "execution_count": 31
        }, 
        {
            "source": "y = np.sin(x)", 
            "cell_type": "code", 
            "metadata": {}, 
            "outputs": [], 
            "execution_count": 32
        }, 
        {
            "source": "y", 
            "cell_type": "code", 
            "metadata": {}, 
            "outputs": [
                {
                    "output_type": "execute_result", 
                    "data": {
                        "text/plain": "array([  0.00000000e+00,   6.34239197e-02,   1.26592454e-01,\n         1.89251244e-01,   2.51147987e-01,   3.12033446e-01,\n         3.71662456e-01,   4.29794912e-01,   4.86196736e-01,\n         5.40640817e-01,   5.92907929e-01,   6.42787610e-01,\n         6.90079011e-01,   7.34591709e-01,   7.76146464e-01,\n         8.14575952e-01,   8.49725430e-01,   8.81453363e-01,\n         9.09631995e-01,   9.34147860e-01,   9.54902241e-01,\n         9.71811568e-01,   9.84807753e-01,   9.93838464e-01,\n         9.98867339e-01,   9.99874128e-01,   9.96854776e-01,\n         9.89821442e-01,   9.78802446e-01,   9.63842159e-01,\n         9.45000819e-01,   9.22354294e-01,   8.95993774e-01,\n         8.66025404e-01,   8.32569855e-01,   7.95761841e-01,\n         7.55749574e-01,   7.12694171e-01,   6.66769001e-01,\n         6.18158986e-01,   5.67059864e-01,   5.13677392e-01,\n         4.58226522e-01,   4.00930535e-01,   3.42020143e-01,\n         2.81732557e-01,   2.20310533e-01,   1.58001396e-01,\n         9.50560433e-02,   3.17279335e-02,  -3.17279335e-02,\n        -9.50560433e-02,  -1.58001396e-01,  -2.20310533e-01,\n        -2.81732557e-01,  -3.42020143e-01,  -4.00930535e-01,\n        -4.58226522e-01,  -5.13677392e-01,  -5.67059864e-01,\n        -6.18158986e-01,  -6.66769001e-01,  -7.12694171e-01,\n        -7.55749574e-01,  -7.95761841e-01,  -8.32569855e-01,\n        -8.66025404e-01,  -8.95993774e-01,  -9.22354294e-01,\n        -9.45000819e-01,  -9.63842159e-01,  -9.78802446e-01,\n        -9.89821442e-01,  -9.96854776e-01,  -9.99874128e-01,\n        -9.98867339e-01,  -9.93838464e-01,  -9.84807753e-01,\n        -9.71811568e-01,  -9.54902241e-01,  -9.34147860e-01,\n        -9.09631995e-01,  -8.81453363e-01,  -8.49725430e-01,\n        -8.14575952e-01,  -7.76146464e-01,  -7.34591709e-01,\n        -6.90079011e-01,  -6.42787610e-01,  -5.92907929e-01,\n        -5.40640817e-01,  -4.86196736e-01,  -4.29794912e-01,\n        -3.71662456e-01,  -3.12033446e-01,  -2.51147987e-01,\n        -1.89251244e-01,  -1.26592454e-01,  -6.34239197e-02,\n        -2.44929360e-16])"
                    }, 
                    "execution_count": 33, 
                    "metadata": {}
                }
            ], 
            "execution_count": 33
        }, 
        {
            "source": "import matplotlib.pyplot as plt\nplt.plot(x,y)", 
            "cell_type": "code", 
            "metadata": {}, 
            "outputs": [
                {
                    "output_type": "execute_result", 
                    "data": {
                        "text/plain": "[<matplotlib.lines.Line2D at 0x7fa3ac173c18>]"
                    }, 
                    "execution_count": 36, 
                    "metadata": {}
                }, 
                {
                    "output_type": "display_data", 
                    "data": {
                        "image/png": "[encoded data removed]", 
                        "text/plain": "<matplotlib.figure.Figure at 0x7fa3b802a668>"
                    }, 
                    "metadata": {}
                }
            ], 
            "execution_count": 36
        }, 
        {
            "source": "x=np.linspace(0,1,num=100)\ny = np.sin(x)\nplt.plot(x,y)", 
            "cell_type": "code", 
            "metadata": {}, 
            "outputs": [
                {
                    "output_type": "execute_result", 
                    "data": {
                        "text/plain": "[<matplotlib.lines.Line2D at 0x7fa3ac0ec5f8>]"
                    }, 
                    "execution_count": 37, 
                    "metadata": {}
                }, 
                {
                    "output_type": "display_data", 
                    "data": {
                        "image/png": "[encoded data removed]", 
                        "text/plain": "<matplotlib.figure.Figure at 0x7fa3ac153be0>"
                    }, 
                    "metadata": {}
                }
            ], 
            "execution_count": 37
        }, 
        {
            "source": "x=np.linspace(0,1,num=4)\nx", 
            "cell_type": "code", 
            "metadata": {}, 
            "outputs": [
                {
                    "output_type": "execute_result", 
                    "data": {
                        "text/plain": "array([ 0.        ,  0.33333333,  0.66666667,  1.        ])"
                    }, 
                    "execution_count": 40, 
                    "metadata": {}
                }
            ], 
            "execution_count": 40
        }, 
        {
            "source": "x= np.array([ 0,0.2,0.66666667,  1.        ])", 
            "cell_type": "code", 
            "metadata": {}, 
            "outputs": [], 
            "execution_count": 43
        }, 
        {
            "source": "y=np.sin(x)\nplt.plot(x,y)", 
            "cell_type": "code", 
            "metadata": {}, 
            "outputs": [
                {
                    "output_type": "execute_result", 
                    "data": {
                        "text/plain": "[<matplotlib.lines.Line2D at 0x7fa3ac062e80>]"
                    }, 
                    "execution_count": 44, 
                    "metadata": {}
                }, 
                {
                    "output_type": "display_data", 
                    "data": {
                        "image/png": "[encoded data removed]", 
                        "text/plain": "<matplotlib.figure.Figure at 0x7fa3ac09b668>"
                    }, 
                    "metadata": {}
                }
            ], 
            "execution_count": 44
        }, 
        {
            "source": "", 
            "cell_type": "code", 
            "metadata": {}, 
            "outputs": [], 
            "execution_count": null
        }
    ], 
    "metadata": {
        "kernelspec": {
            "display_name": "Python 3.5", 
            "name": "python3", 
            "language": "python"
        }, 
        "language_info": {
            "mimetype": "text/x-python", 
            "nbconvert_exporter": "python", 
            "version": "3.5.5", 
            "name": "python", 
            "file_extension": ".py", 
            "pygments_lexer": "ipython3", 
            "codemirror_mode": {
                "version": 3, 
                "name": "ipython"
            }
        }
    }, 
    "nbformat": 4
}