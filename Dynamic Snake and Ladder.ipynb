{
    "nbformat_minor": 1, 
    "cells": [
        {
            "source": "import random as rn\nladders_dict = {}\nsnakes_dict = {}\ndef generate_ladders():\n    l=0\n    i=0    \n    for i in range(0,6): #6 ladders\n        l=rn.randint(1,100)\n        ladders_dict[l] = rn.randint(l+1,100)  \n    \ndef generate_snakes():\n    s=0\n    i=0    \n    for i in range(0,6): #6 Snakes\n        s=rn.randint(1,100)\n        snakes_dict[s] = rn.randint(1,s-1)       \n    \ngenerate_ladders()\ngenerate_snakes()\n\n\nplayer1=input(\"Enter player1 : \")\nplayer2=input(\"Enter player2 : \")\nscore1=0\nscore2=0\n\n#if ladder & snakes keys match remove from snakes dict\nfor ladder_key in ladders_dict: \n    for snake_key in snakes_dict: \n        if (ladder_key == snake_key) :\n            print(\"Matching key found for snake & ladder, removing the snake\")\n            snakes_dict.pop(snake_key)\n            \nprint(ladders_dict) \nprint(snakes_dict)  \n\nwhile(1):\n    r1=rn.randint(1,6)\n    r2=rn.randint(1,6)\n    score1=score1+r1\n    score2=score2+r2\n    for ladder_key in ladders_dict: \n        if (score1 == ladder_key):\n            print(\"%s found ladder at %s\"%(player1,ladder_key))\n            score1 = ladders_dict[ladder_key]            \n        if (score2 == ladder_key):\n            print(\"%s found ladder at %s\"%(player2,ladder_key))\n            score2 = ladders_dict[ladder_key]\n            \n    for snake_key in snakes_dict: \n        if (score1 == snake_key):\n            print(\"%s found snake at %s\"%(player1,snake_key))\n            score1 = snakes_dict[snake_key]\n        if (score2 == snake_key):\n            print(\"%s found snake at %s\"%(player2,snake_key))\n            score2 = snakes_dict[snake_key]\n            \n    print(\"%s score now = %s\"%(player1,score1))\n    print(\"%s score now = %s\"%(player2,score2))\n    print(\"-------------------------\")\n    \n    if (score1>=100):\n        print(\"%s wins with score = %s\"%(player1,score1))\n        break\n    elif (score2>=100):\n        print(\"%s wins with score = %s\"%(player2,score2))\n        break\n        \nprint(\"Game finished\")    ", 
            "cell_type": "code", 
            "metadata": {}, 
            "outputs": [
                {
                    "output_type": "stream", 
                    "name": "stdout", 
                    "text": "Enter player1 : James\nEnter player2 : Bond\n{48: 77, 96: 98, 52: 100, 38: 40, 23: 70, 40: 49}\n{16: 9, 98: 5, 67: 45, 69: 27, 89: 78, 75: 55}\nJames score now = 5\nBond score now = 5\n-------------------------\nJames score now = 9\nBond score now = 8\n-------------------------\nJames score now = 11\nBond score now = 10\n-------------------------\nJames score now = 13\nBond score now = 11\n-------------------------\nJames score now = 14\nBond score now = 13\n-------------------------\nJames score now = 20\nBond score now = 15\n-------------------------\nBond found snake at 16\nJames score now = 24\nBond score now = 9\n-------------------------\nJames score now = 28\nBond score now = 13\n-------------------------\nJames score now = 34\nBond score now = 19\n-------------------------\nJames found ladder at 38\nJames found ladder at 40\nJames score now = 49\nBond score now = 21\n-------------------------\nBond found ladder at 23\nJames score now = 54\nBond score now = 70\n-------------------------\nJames score now = 58\nBond score now = 71\n-------------------------\nJames score now = 61\nBond score now = 76\n-------------------------\nJames found snake at 67\nJames score now = 45\nBond score now = 80\n-------------------------\nJames found ladder at 48\nJames score now = 77\nBond score now = 81\n-------------------------\nJames score now = 78\nBond score now = 83\n-------------------------\nJames score now = 84\nBond score now = 86\n-------------------------\nBond found snake at 89\nJames score now = 86\nBond score now = 78\n-------------------------\nJames score now = 92\nBond score now = 83\n-------------------------\nJames found snake at 98\nJames score now = 5\nBond score now = 86\n-------------------------\nJames score now = 9\nBond score now = 88\n-------------------------\nJames score now = 10\nBond score now = 90\n-------------------------\nBond found ladder at 96\nBond found snake at 98\nJames score now = 13\nBond score now = 5\n-------------------------\nJames found snake at 16\nJames score now = 9\nBond score now = 10\n-------------------------\nJames score now = 13\nBond score now = 15\n-------------------------\nJames score now = 17\nBond score now = 17\n-------------------------\nBond found ladder at 23\nJames score now = 19\nBond score now = 70\n-------------------------\nJames score now = 20\nBond score now = 71\n-------------------------\nJames score now = 21\nBond score now = 73\n-------------------------\nJames score now = 26\nBond score now = 77\n-------------------------\nJames score now = 29\nBond score now = 78\n-------------------------\nJames score now = 32\nBond score now = 81\n-------------------------\nJames found ladder at 38\nJames found ladder at 40\nJames score now = 49\nBond score now = 87\n-------------------------\nJames score now = 55\nBond score now = 91\n-------------------------\nBond found ladder at 96\nBond found snake at 98\nJames score now = 59\nBond score now = 5\n-------------------------\nJames score now = 60\nBond score now = 8\n-------------------------\nJames score now = 66\nBond score now = 10\n-------------------------\nJames score now = 68\nBond score now = 14\n-------------------------\nJames score now = 71\nBond score now = 19\n-------------------------\nBond found ladder at 23\nJames found snake at 75\nJames score now = 55\nBond score now = 70\n-------------------------\nJames score now = 61\nBond score now = 71\n-------------------------\nJames score now = 62\nBond score now = 72\n-------------------------\nJames score now = 64\nBond score now = 78\n-------------------------\nJames found snake at 69\nJames score now = 27\nBond score now = 83\n-------------------------\nBond found snake at 89\nJames score now = 33\nBond score now = 78\n-------------------------\nJames score now = 36\nBond score now = 83\n-------------------------\nJames score now = 37\nBond score now = 85\n-------------------------\nJames found ladder at 38\nJames found ladder at 40\nJames score now = 49\nBond score now = 91\n-------------------------\nJames score now = 51\nBond score now = 92\n-------------------------\nBond found snake at 98\nJames score now = 53\nBond score now = 5\n-------------------------\nJames score now = 54\nBond score now = 10\n-------------------------\nJames score now = 56\nBond score now = 15\n-------------------------\nJames score now = 60\nBond score now = 21\n-------------------------\nJames score now = 61\nBond score now = 27\n-------------------------\nJames score now = 63\nBond score now = 31\n-------------------------\nJames score now = 68\nBond score now = 33\n-------------------------\nJames found snake at 69\nJames score now = 27\nBond score now = 39\n-------------------------\nJames score now = 33\nBond score now = 42\n-------------------------\nJames score now = 35\nBond score now = 46\n-------------------------\nBond found ladder at 48\nJames score now = 39\nBond score now = 77\n-------------------------\nJames found ladder at 40\nJames score now = 49\nBond score now = 78\n-------------------------\nJames score now = 50\nBond score now = 81\n-------------------------\nJames score now = 55\nBond score now = 84\n-------------------------\nJames score now = 58\nBond score now = 88\n-------------------------\nJames score now = 64\nBond score now = 91\n-------------------------\nJames found snake at 69\nJames score now = 27\nBond score now = 95\n-------------------------\nJames score now = 31\nBond score now = 101\n-------------------------\nBond wins with score = 101\nGame finished\n"
                }
            ], 
            "execution_count": 3
        }, 
        {
            "source": "", 
            "cell_type": "code", 
            "metadata": {
                "collapsed": true
            }, 
            "outputs": [], 
            "execution_count": null
        }
    ], 
    "metadata": {
        "kernelspec": {
            "display_name": "Python 3.5", 
            "name": "python3", 
            "language": "python"
        }, 
        "language_info": {
            "mimetype": "text/x-python", 
            "nbconvert_exporter": "python", 
            "version": "3.5.5", 
            "name": "python", 
            "file_extension": ".py", 
            "pygments_lexer": "ipython3", 
            "codemirror_mode": {
                "version": 3, 
                "name": "ipython"
            }
        }
    }, 
    "nbformat": 4
}